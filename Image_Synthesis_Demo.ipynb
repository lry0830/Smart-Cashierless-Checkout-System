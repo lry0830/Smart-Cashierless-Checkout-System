{
  "nbformat": 4,
  "nbformat_minor": 0,
  "metadata": {
    "colab": {
      "provenance": [],
      "collapsed_sections": [
        "YB71M65UzwcL"
      ],
      "authorship_tag": "ABX9TyOy8l1ZN5zivx8Cp2D6M+GB",
      "include_colab_link": true
    },
    "kernelspec": {
      "name": "python3",
      "display_name": "Python 3"
    },
    "language_info": {
      "name": "python"
    },
    "accelerator": "GPU",
    "gpuClass": "standard"
  },
  "cells": [
    {
      "cell_type": "markdown",
      "metadata": {
        "id": "view-in-github",
        "colab_type": "text"
      },
      "source": [
        "<a href=\"https://colab.research.google.com/github/lry0830/Smart-Cashierless-Checkout-System/blob/main/Image_Synthesis_Demo.ipynb\" target=\"_parent\"><img src=\"https://colab.research.google.com/assets/colab-badge.svg\" alt=\"Open In Colab\"/></a>"
      ]
    },
    {
      "cell_type": "markdown",
      "source": [
        "### 1. Extract Mask"
      ],
      "metadata": {
        "id": "58RjupYLLzxI"
      }
    },
    {
      "cell_type": "code",
      "source": [
        "# Create folders for raw images\n",
        "import os\n",
        "\n",
        "if not os.path.exists('/content/data/Images'):\n",
        "  os.makedirs('/content/data/Images')\n",
        "else:\n",
        "  print(\"Folder exists\")\n",
        "\n",
        "# Upload Mask Extraction script\n",
        "from google.colab import files\n",
        "%cd /content/data\n",
        "uploaded = files.upload()\n",
        "\n",
        "# Copy Raw Images to folder\n",
        "\n",
        "# Upload Mask JSON file\n",
        "from google.colab import files\n",
        "%cd /content/data\n",
        "uploaded = files.upload()"
      ],
      "metadata": {
        "id": "b5pxH-DoEsgZ"
      },
      "execution_count": null,
      "outputs": []
    },
    {
      "cell_type": "code",
      "source": [
        "%cd /content\n",
        "# VGG Annotator : []()\n",
        "!python Mask_Extraction_VGG.py \"/content/data\" \"Mask.json\""
      ],
      "metadata": {
        "id": "zgrKXynS_YK1"
      },
      "execution_count": null,
      "outputs": []
    },
    {
      "cell_type": "code",
      "source": [
        "# Visualize Image & Mask\n",
        "import matplotlib.pyplot as plt\n",
        "import numpy as np\n",
        "\n",
        "f, axarr = plt.subplots(1,2)\n",
        "img = plt.imread(\"/content/data/Images/Boh/images/Boh.jpg\")\n",
        "mask = plt.imread(\"/content/data/Images/Boh/masks/Boh.png\")\n",
        "axarr[0].imshow(img)\n",
        "axarr[1].imshow(mask, cmap='gray')"
      ],
      "metadata": {
        "id": "5kdgVP8cJU0i"
      },
      "execution_count": null,
      "outputs": []
    },
    {
      "cell_type": "markdown",
      "source": [
        "### 2. Image Augmentation"
      ],
      "metadata": {
        "id": "SCfLggFVP7Pp"
      }
    },
    {
      "cell_type": "code",
      "source": [
        "# Install dependencies\n",
        "!pip install bbaug\n",
        "!pip install pascal_voc_writer\n",
        "!pip install -U albumentations\n",
        "!pip uninstall opencv\n",
        "!pip install --upgrade opencv-python"
      ],
      "metadata": {
        "id": "9y8vhumMP_9O"
      },
      "execution_count": null,
      "outputs": []
    },
    {
      "cell_type": "code",
      "source": [
        "# Re-organize files\n",
        "import shutil\n",
        "import os\n",
        "\n",
        "os.makedirs('/content/Extracted/images')\n",
        "os.makedirs('/content/Extracted/masks')\n",
        "\n",
        "for folder in os.listdir(\"/content/data/Images\"):\n",
        "  for x in os.listdir(os.path.join(f\"/content/data/Images/{folder}\", \"images\")):\n",
        "    if x.endswith(\".jpg\"):\n",
        "       shutil.copy(f\"/content/data/Images/{folder}/images/{x}\", f'/content/Extracted/images/{x}')\n",
        "  for x in os.listdir(os.path.join(f\"/content/data/Images/{folder}\", \"masks\")):\n",
        "    if x.endswith(\".png\"):\n",
        "       shutil.copy(f\"/content/data/Images/{folder}/masks/{x}\", f'/content/Extracted/masks/{x}')\n"
      ],
      "metadata": {
        "id": "Q82793iLRZBU"
      },
      "execution_count": null,
      "outputs": []
    },
    {
      "cell_type": "code",
      "source": [
        "# Upload annotation files\n",
        "os.makedirs('/content/Extracted/txt')"
      ],
      "metadata": {
        "id": "W-C2DawJYrug"
      },
      "execution_count": null,
      "outputs": []
    },
    {
      "cell_type": "code",
      "source": [
        "# For single-product images\n",
        "%cd /content\n",
        "!python Image_Augmentation_v4.py -N 3 -i '/content/Extracted/images' \\\n",
        "                                        -a '/content/Extracted/txt' \\\n",
        "                                        -m '/content/Extracted/masks' \\\n",
        "                                        -t syn"
      ],
      "metadata": {
        "id": "Rn3roiVpQTJ5"
      },
      "execution_count": null,
      "outputs": []
    },
    {
      "cell_type": "code",
      "source": [
        "# Check number of generated images\n",
        "import os\n",
        "import cv2\n",
        "\n",
        "print(len(os.listdir('/content/augmented/images')))\n",
        "\n",
        "img_name = (os.listdir('/content/augmented/images'))[0]\n",
        "img = cv2.imread(('/content/augmented/images/'+img_name))\n",
        "print(img.shape)"
      ],
      "metadata": {
        "id": "-KQnLdvlbApT"
      },
      "execution_count": null,
      "outputs": []
    },
    {
      "cell_type": "code",
      "source": [
        "import cv2\n",
        "import matplotlib.pyplot as plt\n",
        "\n",
        "img = cv2.imread('/content/augmented/images/Boh(3).jpg')\n",
        "img = cv2.cvtColor(img, cv2.COLOR_BGR2RGB)\n",
        "dh, dw, _ = img.shape\n",
        "\n",
        "fl = open('/content/augmented/txt/Boh(3).txt', 'r')\n",
        "data = fl.readlines()\n",
        "fl.close()\n",
        "\n",
        "for dt in data:\n",
        "    dt = dt.replace(\"\\n\", '').split(' ')\n",
        "    dt = dt[:5]\n",
        "\n",
        "    # Split string to float\n",
        "    _, x, y, w, h = map(float, dt)\n",
        "\n",
        "    # Taken from https://github.com/pjreddie/darknet/blob/810d7f797bdb2f021dbe65d2524c2ff6b8ab5c8b/src/image.c#L283-L291\n",
        "    # via https://stackoverflow.com/questions/44544471/how-to-get-the-coordinates-of-the-bounding-box-in-yolo-object-detection#comment102178409_44592380\n",
        "    l = int((x - w / 2) * dw)\n",
        "    r = int((x + w / 2) * dw)\n",
        "    t = int((y - h / 2) * dh)\n",
        "    b = int((y + h / 2) * dh)\n",
        "    \n",
        "    if l < 0:\n",
        "        l = 0\n",
        "    if r > dw - 1:\n",
        "        r = dw - 1\n",
        "    if t < 0:\n",
        "        t = 0\n",
        "    if b > dh - 1:\n",
        "        b = dh - 1\n",
        "\n",
        "    cv2.rectangle(img, (l, t), (r, b), (255, 0, 0), 5)\n",
        "\n",
        "plt.imshow(img)\n",
        "plt.show()"
      ],
      "metadata": {
        "id": "PRGqWKXvbm6D"
      },
      "execution_count": null,
      "outputs": []
    },
    {
      "cell_type": "markdown",
      "source": [
        "### 3. Train-Test Split\n",
        "- `img2train.py`to generate train.txt\n",
        "- `pickfile.py` to pick the images"
      ],
      "metadata": {
        "id": "chXJ9Do6eIL3"
      }
    },
    {
      "cell_type": "code",
      "source": [
        "# Upload script\n",
        "from google.colab import files\n",
        "uploaded = files.upload()"
      ],
      "metadata": {
        "id": "OZ8GSWPpfBjK"
      },
      "execution_count": null,
      "outputs": []
    },
    {
      "cell_type": "code",
      "source": [
        "%cd /content\n",
        "!python img2train.py \"/content/augmented/images\""
      ],
      "metadata": {
        "id": "E6RMtSlAfIxw"
      },
      "execution_count": null,
      "outputs": []
    },
    {
      "cell_type": "code",
      "source": [
        "# To split real images to train & test\n",
        "!python pickfile_v2.py \"/content/train.txt\" \\\n",
        "                    \"/content/augmented/images\" \\\n",
        "                    \"train\"\n",
        "                    \n",
        "!python pickfile_v2.py \"/content/val.txt\" \\\n",
        "                    \"/content/augmented/images\" \\\n",
        "                    \"val\""
      ],
      "metadata": {
        "id": "xMS3gsETnwjR"
      },
      "execution_count": null,
      "outputs": []
    },
    {
      "cell_type": "code",
      "source": [
        "# Convert to json (Require classes.txt)\n",
        "%cd /content\n",
        "!python yolov5_2_coco.py --dir_path \"/content/augmented\""
      ],
      "metadata": {
        "id": "wzht1yXwoEKb"
      },
      "execution_count": null,
      "outputs": []
    },
    {
      "cell_type": "code",
      "source": [
        "# Visualize \n",
        "!python coco_visual.py --vis_num 10 \\\n",
        "                       --json_path /content/augmented_COCO_format/annotations/instances_train2017.json \\\n",
        "                       --img_dir /content/augmented_COCO_format/train2017\n",
        "\n",
        "img = plt.imread(\"/content/visualized.jpg\")\n",
        "plt.imshow(img)"
      ],
      "metadata": {
        "id": "pxNOOF-_qdtq"
      },
      "execution_count": null,
      "outputs": []
    },
    {
      "cell_type": "markdown",
      "source": [
        "### 4. Export to Google Drive"
      ],
      "metadata": {
        "id": "YB71M65UzwcL"
      }
    },
    {
      "cell_type": "code",
      "source": [
        "# Download Augmented Synthesized Images\n",
        "from google.colab import files\n",
        "\n",
        "!zip -r /content/augmented_COCO_raw.zip /content/augmented_COCO_format\n",
        "files.download('/content/augmented_COCO_raw.zip')"
      ],
      "metadata": {
        "id": "wNcjNlpEzoYV"
      },
      "execution_count": null,
      "outputs": []
    },
    {
      "cell_type": "markdown",
      "source": [
        "### 5. Image Synthesis"
      ],
      "metadata": {
        "id": "XkRsZxLfz69S"
      }
    },
    {
      "cell_type": "code",
      "source": [
        "# Add bg.jpg to /content\n",
        "\n",
        "# Image Synthesis\n",
        "!python synthesis.py --count 1 --local_rank 1"
      ],
      "metadata": {
        "id": "T91r5KDc1ODO"
      },
      "execution_count": null,
      "outputs": []
    },
    {
      "cell_type": "code",
      "source": [
        "!python coco_visual.py --vis_num 15 \\\n",
        "                       --json_path /content/annotations.json \\\n",
        "                       --img_dir /content/synthesized_dataset\n",
        "\n",
        "img = plt.imread('/content/visualized.jpg')\n",
        "plt.imshow(img)"
      ],
      "metadata": {
        "id": "sssgH0137gJ6"
      },
      "execution_count": null,
      "outputs": []
    },
    {
      "cell_type": "markdown",
      "source": [
        "### 7. CycleGAN Training"
      ],
      "metadata": {
        "id": "tElZkzU73W5s"
      }
    },
    {
      "cell_type": "code",
      "source": [
        "!sudo add-apt-repository -y ppa:alessandro-strada/ppa 2>&1 > /dev/null\n",
        "!sudo apt-get update -qq 2>&1 > /dev/null\n",
        "!sudo apt -y install -qq google-drive-ocamlfuse 2>&1 > /dev/null\n",
        "!google-drive-ocamlfuse"
      ],
      "metadata": {
        "id": "pMfZxVMssr2L"
      },
      "execution_count": null,
      "outputs": []
    },
    {
      "cell_type": "code",
      "source": [
        "!sudo apt-get install -qq w3m # to act as web browser \n",
        "!xdg-settings set default-web-browser w3m.desktop # to set default browser\n",
        "%cd /content\n",
        "!mkdir drive\n",
        "%cd drive\n",
        "!mkdir MyDrive\n",
        "%cd ..\n",
        "%cd ..\n",
        "!google-drive-ocamlfuse /content/drive/MyDrive"
      ],
      "metadata": {
        "id": "rz75gtTdsyHu"
      },
      "execution_count": null,
      "outputs": []
    },
    {
      "cell_type": "code",
      "source": [
        "%cd /content\n",
        "!git clone https://github.com/junyanz/pytorch-CycleGAN-and-pix2pix.git"
      ],
      "metadata": {
        "id": "2tD0RS5JA0WI"
      },
      "execution_count": null,
      "outputs": []
    },
    {
      "cell_type": "code",
      "source": [
        "%cd /content/pytorch-CycleGAN-and-pix2pix\n",
        "!pip install -r requirements.txt"
      ],
      "metadata": {
        "id": "4G_nUT5FQZig"
      },
      "execution_count": null,
      "outputs": []
    },
    {
      "cell_type": "code",
      "source": [
        "!unzip /content/drive/MyDrive/Data_Synthesis/CycleGAN_v7.zip -d /content/dataset"
      ],
      "metadata": {
        "id": "hB4PpfIqRUpa"
      },
      "execution_count": null,
      "outputs": []
    },
    {
      "cell_type": "code",
      "source": [
        "!python train.py --dataroot /content/dataset --name syn_2_real --model cycle_gan \\\n",
        "                 --netD  basic --n_epochs 100 --n_epochs_decay 100 --batch_size 4\\\n",
        "                  --netG resnet_9blocks --preprocess scale_width_and_crop --load_size 900 \\\n",
        "                  --crop_size 256 --display_id 0 --lambda_identity 0.4 --lambda_A 8 --lambda_B 8"
      ],
      "metadata": {
        "id": "INFQdneuQvJB"
      },
      "execution_count": null,
      "outputs": []
    },
    {
      "cell_type": "code",
      "source": [
        "# Place in pytorch-CycleGAN-and-pix2pix/checkpoints\n",
        "!cp /content/drive/MyDrive/CycleGAN_Weights/latest_net_G.pth /content/pytorch-CycleGAN-and-pix2pix/checkpoints/syn_2_real\n",
        "#os.rename('/content/pytorch-CycleGAN-and-pix2pix/checkpoints/syn_2_real/latest_net_G_A.pth', \n",
        "          #'/content/pytorch-CycleGAN-and-pix2pix/checkpoints/syn_2_real/latest_net_G.pth')"
      ],
      "metadata": {
        "id": "ZjnHUPqoSFcg"
      },
      "execution_count": null,
      "outputs": []
    },
    {
      "cell_type": "markdown",
      "source": [
        "### 8. CycleGAN Rendering"
      ],
      "metadata": {
        "id": "NldZ9CA6C1f8"
      }
    },
    {
      "cell_type": "code",
      "source": [
        "!unzip /content/drive/MyDrive/Data_Synthesis/CycleGAN_v7.zip -d /content/dataset"
      ],
      "metadata": {
        "id": "NNfs5YuNC0Px"
      },
      "execution_count": null,
      "outputs": []
    },
    {
      "cell_type": "code",
      "source": [
        "!python test.py --dataroot /content/dataset/ \\\n",
        "                --direction AtoB --model test \\\n",
        "                --name syn_2_real --preprocess scale_width \\\n",
        "                --load_size 800 --no_flip --netG resnet_6blocks \\\n",
        "                --no_dropout --num_test 10"
      ],
      "metadata": {
        "id": "1jHHQsoRQ1KF"
      },
      "execution_count": null,
      "outputs": []
    },
    {
      "cell_type": "markdown",
      "source": [
        "### Extra : Miscellaneous Codes"
      ],
      "metadata": {
        "id": "1tvDn5V_JNd3"
      }
    },
    {
      "cell_type": "code",
      "source": [
        "import shutil\n",
        "shutil.rmtree('/content/dataset')"
      ],
      "metadata": {
        "id": "XjuGfB2oIX4F"
      },
      "execution_count": null,
      "outputs": []
    }
  ]
}